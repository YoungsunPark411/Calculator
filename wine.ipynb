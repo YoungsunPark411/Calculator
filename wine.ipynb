{
 "cells": [
  {
   "cell_type": "code",
   "execution_count": null,
   "id": "ce26fc70-7ca0-4cb1-9d73-ddcbf12f44d1",
   "metadata": {},
   "outputs": [],
   "source": [
    "import pandas as pd\n",
    "import numpy as np"
   ]
  },
  {
   "cell_type": "code",
   "execution_count": null,
   "id": "8f104c39-25bd-4fdd-a377-7b6f94d990c8",
   "metadata": {},
   "outputs": [],
   "source": [
    "wine = pd.read_csv('winequality-red.csv') "
   ]
  },
  {
   "cell_type": "code",
   "execution_count": null,
   "id": "7963401a-2fdf-486f-9f54-03a78ac04d5b",
   "metadata": {},
   "outputs": [],
   "source": [
    "wine.head()"
   ]
  },
  {
   "cell_type": "code",
   "execution_count": null,
   "id": "c3f9a1aa-ee1e-4b9c-920f-49b113e29f05",
   "metadata": {},
   "outputs": [],
   "source": [
    "from sklearn.tree import DecisionTreeClassifier"
   ]
  },
  {
   "cell_type": "code",
   "execution_count": null,
   "id": "db7d9192-6e10-4394-99e0-b17f7fb2a5f7",
   "metadata": {},
   "outputs": [],
   "source": [
    "wine['result']=np.where(wine['quality']>=6, 'Good', 'Bad')"
   ]
  },
  {
   "cell_type": "code",
   "execution_count": null,
   "id": "276f74e4-43e4-435d-a69c-2e2f4f00f132",
   "metadata": {},
   "outputs": [],
   "source": [
    "wine.head()"
   ]
  },
  {
   "cell_type": "code",
   "execution_count": null,
   "id": "b07ff12e-0701-438b-88e0-40b8a00469a2",
   "metadata": {},
   "outputs": [],
   "source": [
    "wine.columns"
   ]
  },
  {
   "cell_type": "code",
   "execution_count": null,
   "id": "9c258082-ff8e-4063-bffe-c3214ee21ffd",
   "metadata": {},
   "outputs": [],
   "source": [
    "df=wine.copy()\n",
    "X=df.drop(['result','quality'],axis=1)\n",
    "Y=df['result']"
   ]
  },
  {
   "cell_type": "code",
   "execution_count": null,
   "id": "4787a048-cb0a-4495-b5e3-067f33783d07",
   "metadata": {},
   "outputs": [],
   "source": [
    "from sklearn.model_selection import train_test_split"
   ]
  },
  {
   "cell_type": "code",
   "execution_count": null,
   "id": "bfff5a0c-e904-42d2-82bc-0ebe443f8201",
   "metadata": {},
   "outputs": [],
   "source": [
    "df.isnull().sum()"
   ]
  },
  {
   "cell_type": "code",
   "execution_count": null,
   "id": "8e3d4986-3532-4b51-9694-e5fb148d10bc",
   "metadata": {},
   "outputs": [],
   "source": [
    "x_train,x_test, y_train,y_test= train_test_split(X,Y, test_size=0.2, stratify=Y, random_state =0)"
   ]
  },
  {
   "cell_type": "code",
   "execution_count": null,
   "id": "7f5dba6f-e85a-43c9-8ca6-fc2a08b8aaa5",
   "metadata": {},
   "outputs": [],
   "source": [
    "model = DecisionTreeClassifier(max_depth=5, random_state=1).fit(x_train,y_train)"
   ]
  },
  {
   "cell_type": "code",
   "execution_count": null,
   "id": "aba83aa0-2547-4ba9-995c-d9275cb33c17",
   "metadata": {},
   "outputs": [],
   "source": [
    "model.score(x_test,y_test)"
   ]
  },
  {
   "cell_type": "code",
   "execution_count": null,
   "id": "b3e2c840-c406-41ed-abca-e607121d4e6b",
   "metadata": {},
   "outputs": [],
   "source": [
    "model.score(x_train, y_train)"
   ]
  },
  {
   "cell_type": "code",
   "execution_count": null,
   "id": "343eb54a-c9b3-46e1-88c0-9b89bf448690",
   "metadata": {},
   "outputs": [],
   "source": []
  },
  {
   "cell_type": "code",
   "execution_count": null,
   "id": "31315d3f-ce82-4f85-bf0e-0f407b5dfe64",
   "metadata": {
    "tags": []
   },
   "outputs": [],
   "source": [
    "#풀이"
   ]
  },
  {
   "cell_type": "code",
   "execution_count": null,
   "id": "2ea60dc3-66db-4a9c-b437-5ad0c3114e1a",
   "metadata": {},
   "outputs": [],
   "source": [
    "import pandas as pd\n",
    "import numpy as np\n",
    "from sklearn.tree import DecisionTreeClassifier"
   ]
  },
  {
   "cell_type": "code",
   "execution_count": null,
   "id": "d200dcb1-57eb-40d7-8e56-15bb4248a9e2",
   "metadata": {},
   "outputs": [],
   "source": []
  },
  {
   "cell_type": "code",
   "execution_count": null,
   "id": "7ebeaae1-0adb-4289-8ff6-a6d19288c47f",
   "metadata": {},
   "outputs": [],
   "source": [
    "wine = pd.read_csv('winequality-red.csv') "
   ]
  },
  {
   "cell_type": "code",
   "execution_count": null,
   "id": "89123b11-8a68-46f2-83f4-58430e9e1da9",
   "metadata": {},
   "outputs": [],
   "source": [
    "wine.head()"
   ]
  },
  {
   "cell_type": "code",
   "execution_count": null,
   "id": "dd501b60-33c9-4fec-bf8f-8d364958b6f7",
   "metadata": {},
   "outputs": [],
   "source": [
    "wine.isnull().sum()"
   ]
  },
  {
   "cell_type": "code",
   "execution_count": null,
   "id": "afddf12c-7d01-4019-8299-72d8803e1d71",
   "metadata": {
    "tags": []
   },
   "outputs": [],
   "source": [
    "#중복데이터 찾기\n",
    "wine[wine.duplicated()]"
   ]
  },
  {
   "cell_type": "code",
   "execution_count": null,
   "id": "6661ad02-6661-45c9-bc41-2d7d99ea893a",
   "metadata": {},
   "outputs": [],
   "source": [
    "wine.duplicated()"
   ]
  },
  {
   "cell_type": "code",
   "execution_count": null,
   "id": "a6167b00-48c3-447a-b938-9c05dbc66ca9",
   "metadata": {},
   "outputs": [],
   "source": [
    "wine['quality']=np.where(wine['quality']>=6, 'Good', 'Bad')"
   ]
  },
  {
   "cell_type": "code",
   "execution_count": null,
   "id": "d7d2dce7-d23c-4f34-a52b-ee13ff5ce934",
   "metadata": {},
   "outputs": [],
   "source": [
    "wine['quality'].value_counts()"
   ]
  },
  {
   "cell_type": "code",
   "execution_count": null,
   "id": "87527813-363e-4311-80bb-9d61a620c9e6",
   "metadata": {},
   "outputs": [],
   "source": [
    "X=wine.drop(['quality'],axis=1)\n",
    "Y=wine['quality']"
   ]
  },
  {
   "cell_type": "code",
   "execution_count": null,
   "id": "d766bea2-6d47-4889-8ad7-35fc90d1f79e",
   "metadata": {},
   "outputs": [],
   "source": [
    "x_train,x_test, y_train,y_test= train_test_split(X,Y, test_size=0.2, stratify=Y, random_state =0)"
   ]
  },
  {
   "cell_type": "code",
   "execution_count": null,
   "id": "74fb2024-26b1-46f5-ab00-770071e80a0c",
   "metadata": {},
   "outputs": [],
   "source": [
    "model = DecisionTreeClassifier(max_depth=5, random_state=1).fit(x_train,y_train)"
   ]
  },
  {
   "cell_type": "code",
   "execution_count": null,
   "id": "2bfb41d1-d65c-4710-82f1-40c225ca1b8d",
   "metadata": {},
   "outputs": [],
   "source": [
    "model.score(x_test,y_test)\n",
    "pred= model.predict(x_test)"
   ]
  },
  {
   "cell_type": "code",
   "execution_count": null,
   "id": "ed8f40a0-19f1-4019-9b56-b38f524ccf30",
   "metadata": {},
   "outputs": [],
   "source": [
    "from sklearn.metrics import f1_score\n",
    "from sklearn.preprocessing import LabelBinarizer"
   ]
  },
  {
   "cell_type": "code",
   "execution_count": null,
   "id": "d69068ec-aa29-463b-ad19-b1b004678d3e",
   "metadata": {},
   "outputs": [],
   "source": [
    "binarizer = LabelBinarizer()"
   ]
  },
  {
   "cell_type": "code",
   "execution_count": null,
   "id": "0976401a-fccc-437a-b64e-6c348e4a00fd",
   "metadata": {},
   "outputs": [],
   "source": [
    "binarizer.classes_"
   ]
  },
  {
   "cell_type": "code",
   "execution_count": null,
   "id": "ac4db115-2ff6-4cbf-af95-6bfee6923651",
   "metadata": {},
   "outputs": [],
   "source": [
    "binarizer.fit(y_test)"
   ]
  },
  {
   "cell_type": "code",
   "execution_count": null,
   "id": "93d86d34-2e0a-4888-8aad-76781189c45c",
   "metadata": {},
   "outputs": [],
   "source": [
    "f1_score(binarizer.transform(pred), binarizer.transform(y_test))"
   ]
  },
  {
   "cell_type": "code",
   "execution_count": null,
   "id": "0f6403aa-5208-4ab2-8566-17746fabf4c8",
   "metadata": {},
   "outputs": [],
   "source": []
  },
  {
   "cell_type": "code",
   "execution_count": null,
   "id": "e671e9de-86a8-43b2-9b03-81aea9724b38",
   "metadata": {},
   "outputs": [],
   "source": [
    "f1_score(pred, y_test, pos_label='Bad')"
   ]
  },
  {
   "cell_type": "code",
   "execution_count": null,
   "id": "f12c04f4-ae68-477c-abc2-1b320cde5c4f",
   "metadata": {},
   "outputs": [],
   "source": [
    "from sklearn.metrics import confusion_matrix"
   ]
  },
  {
   "cell_type": "code",
   "execution_count": null,
   "id": "a754e164-13be-4f6b-b5b4-da3bf71641ca",
   "metadata": {},
   "outputs": [],
   "source": [
    "confusion_matrix(pred, y_test, labels=['Good', 'Bad'])"
   ]
  },
  {
   "cell_type": "code",
   "execution_count": null,
   "id": "5c36fe68-84af-42c3-bac4-c1e550f956ee",
   "metadata": {},
   "outputs": [],
   "source": [
    "from sklearn.metrics import classification_report"
   ]
  },
  {
   "cell_type": "code",
   "execution_count": null,
   "id": "4281ac81-6389-4ca3-a9ec-30b062e1cea4",
   "metadata": {},
   "outputs": [],
   "source": [
    "print(classification_report(pred,y_test))"
   ]
  },
  {
   "cell_type": "code",
   "execution_count": null,
   "id": "a2d4ba1b-e0bd-4a78-99e0-db94ad4038ab",
   "metadata": {},
   "outputs": [],
   "source": [
    "f1_score(pred, y_test, average='macro')"
   ]
  },
  {
   "cell_type": "code",
   "execution_count": null,
   "id": "078aa5b4-0bf5-483a-834a-2ecdb2ce05a9",
   "metadata": {},
   "outputs": [],
   "source": [
    "pd.DataFrame(list(zip(model.feature_names_in_,model.feature_importances_)), columns = ['Feature','importance']).sort_values('importance',ascending=False)"
   ]
  },
  {
   "cell_type": "code",
   "execution_count": null,
   "id": "21740168-6ead-460a-b11d-842bbfedc807",
   "metadata": {},
   "outputs": [],
   "source": [
    "model.feature_importances_"
   ]
  },
  {
   "cell_type": "code",
   "execution_count": null,
   "id": "b7a3c872-6e7f-4bbe-8ebd-f7349814bdcb",
   "metadata": {},
   "outputs": [],
   "source": [
    "import matplotlib.pyplot as plt"
   ]
  },
  {
   "cell_type": "code",
   "execution_count": null,
   "id": "14c3926a-36c5-4a6d-9a7c-84ebd26160fc",
   "metadata": {},
   "outputs": [],
   "source": [
    "from sklearn.tree import plot_tree"
   ]
  },
  {
   "cell_type": "code",
   "execution_count": null,
   "id": "5d6775bd-8ff4-4eb5-b1a6-342ce621dc2a",
   "metadata": {},
   "outputs": [],
   "source": [
    "plt.figure(figsize=(20,20))\n",
    "plot_tree(model,feature_names=X.columns,class_names=['Bad','Good'],filled =True, max_depth=2)\n",
    "plt.show();"
   ]
  },
  {
   "cell_type": "code",
   "execution_count": null,
   "id": "f0f4b462-e2af-4ae7-b47f-5698173e2f92",
   "metadata": {},
   "outputs": [],
   "source": [
    "#pip install graphviz"
   ]
  },
  {
   "cell_type": "code",
   "execution_count": null,
   "id": "95a8a53a-b211-4087-8351-fbcec7d29c83",
   "metadata": {},
   "outputs": [],
   "source": [
    "from sklearn.tree import export_graphviz\n",
    "import graphviz"
   ]
  },
  {
   "cell_type": "code",
   "execution_count": null,
   "id": "9c9cbe1b-2b4a-4579-a01f-a76bf139be24",
   "metadata": {},
   "outputs": [],
   "source": [
    "dot_data= export_graphviz(model, feature_names = X.columns, class_names=['Bad','Good'], filled=True, rounded=True)"
   ]
  },
  {
   "cell_type": "code",
   "execution_count": null,
   "id": "0bf3af1a-46d2-4210-b2d3-c79d710b2734",
   "metadata": {},
   "outputs": [],
   "source": [
    "graph= graphviz.Source(dot_data)"
   ]
  },
  {
   "cell_type": "code",
   "execution_count": null,
   "id": "e05093b0-19f5-444f-abf3-8bc45ca56f2a",
   "metadata": {},
   "outputs": [],
   "source": [
    "graph"
   ]
  },
  {
   "cell_type": "code",
   "execution_count": null,
   "id": "636ce028-7e20-4bac-99bc-5743f6d9fabf",
   "metadata": {},
   "outputs": [],
   "source": []
  },
  {
   "cell_type": "code",
   "execution_count": null,
   "id": "0fae2314-ee4f-476e-b131-623337e23f00",
   "metadata": {},
   "outputs": [],
   "source": []
  },
  {
   "cell_type": "code",
   "execution_count": null,
   "id": "3fbc4bca-965a-4520-b2a4-cda9054ca84a",
   "metadata": {},
   "outputs": [],
   "source": []
  },
  {
   "cell_type": "code",
   "execution_count": null,
   "id": "25a65dfe-888c-40ba-8b09-ad2d38761d25",
   "metadata": {},
   "outputs": [],
   "source": []
  },
  {
   "cell_type": "code",
   "execution_count": 15,
   "id": "3416af85-69eb-49a4-ad0b-bb63a20d1aee",
   "metadata": {},
   "outputs": [],
   "source": [
    "# 앙상블"
   ]
  },
  {
   "cell_type": "code",
   "execution_count": null,
   "id": "69ef3029-1e1d-45a7-9f43-80753a614f21",
   "metadata": {
    "tags": []
   },
   "outputs": [],
   "source": [
    "#풀이"
   ]
  },
  {
   "cell_type": "code",
   "execution_count": 3,
   "id": "05fc58c6-1d50-4162-b853-25f4000b5452",
   "metadata": {},
   "outputs": [],
   "source": [
    "import pandas as pd\n",
    "import numpy as np\n",
    "from sklearn.tree import DecisionTreeClassifier\n",
    "from sklearn.linear_model import LogisticRegression\n",
    "from sklearn.svm import SVC\n",
    "from sklearn.model_selection import train_test_split\n",
    "from sklearn.metrics import f1_score\n",
    "from sklearn.ensemble import VotingClassifier"
   ]
  },
  {
   "cell_type": "code",
   "execution_count": 5,
   "id": "936bf11a-9158-4c98-b22f-8a6ce1f14095",
   "metadata": {},
   "outputs": [],
   "source": [
    "wine = pd.read_csv('winequality-red.csv') "
   ]
  },
  {
   "cell_type": "code",
   "execution_count": 6,
   "id": "90fb186e-d2ac-46f5-9607-67ca66bb5e04",
   "metadata": {},
   "outputs": [],
   "source": [
    "X=wine.drop(['quality'],axis=1)\n",
    "Y=wine['quality']"
   ]
  },
  {
   "cell_type": "code",
   "execution_count": 7,
   "id": "9c57c544-efbc-473d-8cdb-20e0e3248093",
   "metadata": {},
   "outputs": [],
   "source": [
    "x_train,x_test, y_train,y_test= train_test_split(X,Y, test_size=0.2, stratify=Y, random_state =0)"
   ]
  },
  {
   "cell_type": "code",
   "execution_count": 8,
   "id": "72908bd0-1e94-4bba-a053-ee1e97c0edf4",
   "metadata": {},
   "outputs": [],
   "source": [
    "model1 = DecisionTreeClassifier()\n",
    "model2 = LogisticRegression()\n",
    "model3 = SVC()"
   ]
  },
  {
   "cell_type": "code",
   "execution_count": 11,
   "id": "4d071d4c-e1b5-4679-af1c-3a839ca7e574",
   "metadata": {},
   "outputs": [],
   "source": [
    "model_list=[('DT', model1),('LR', model2),('SVC',model3)]"
   ]
  },
  {
   "cell_type": "code",
   "execution_count": 12,
   "id": "eadc7f4b-0da1-4877-8e9a-c78783363d51",
   "metadata": {
    "tags": []
   },
   "outputs": [],
   "source": [
    "vc_model = VotingClassifier(estimators=model_list)"
   ]
  },
  {
   "cell_type": "code",
   "execution_count": 13,
   "id": "a787d431-03ff-4943-bcd1-fbec083f2495",
   "metadata": {
    "collapsed": true,
    "jupyter": {
     "outputs_hidden": true
    },
    "tags": []
   },
   "outputs": [
    {
     "name": "stderr",
     "output_type": "stream",
     "text": [
      "C:\\Users\\user\\anaconda3\\lib\\site-packages\\sklearn\\linear_model\\_logistic.py:814: ConvergenceWarning: lbfgs failed to converge (status=1):\n",
      "STOP: TOTAL NO. of ITERATIONS REACHED LIMIT.\n",
      "\n",
      "Increase the number of iterations (max_iter) or scale the data as shown in:\n",
      "    https://scikit-learn.org/stable/modules/preprocessing.html\n",
      "Please also refer to the documentation for alternative solver options:\n",
      "    https://scikit-learn.org/stable/modules/linear_model.html#logistic-regression\n",
      "  n_iter_i = _check_optimize_result(\n"
     ]
    },
    {
     "data": {
      "text/plain": [
       "VotingClassifier(estimators=[('DT', DecisionTreeClassifier()),\n",
       "                             ('LR', LogisticRegression()), ('SVC', SVC())])"
      ]
     },
     "execution_count": 13,
     "metadata": {},
     "output_type": "execute_result"
    }
   ],
   "source": [
    "vc_model.fit(x_train, y_train)"
   ]
  },
  {
   "cell_type": "code",
   "execution_count": 14,
   "id": "e8a565fc-5b9b-4262-9c0e-d4d436434fb5",
   "metadata": {},
   "outputs": [
    {
     "data": {
      "text/plain": [
       "0.590625"
      ]
     },
     "execution_count": 14,
     "metadata": {},
     "output_type": "execute_result"
    }
   ],
   "source": [
    "vc_model.score(x_test,y_test)"
   ]
  },
  {
   "cell_type": "code",
   "execution_count": 16,
   "id": "2d034bf3-5852-4d01-96ac-c447ec4577f1",
   "metadata": {},
   "outputs": [
    {
     "name": "stdout",
     "output_type": "stream",
     "text": [
      "DT 0.60625\n",
      "LR 0.590625\n",
      "SVC 0.51875\n"
     ]
    },
    {
     "name": "stderr",
     "output_type": "stream",
     "text": [
      "C:\\Users\\user\\anaconda3\\lib\\site-packages\\sklearn\\linear_model\\_logistic.py:814: ConvergenceWarning: lbfgs failed to converge (status=1):\n",
      "STOP: TOTAL NO. of ITERATIONS REACHED LIMIT.\n",
      "\n",
      "Increase the number of iterations (max_iter) or scale the data as shown in:\n",
      "    https://scikit-learn.org/stable/modules/preprocessing.html\n",
      "Please also refer to the documentation for alternative solver options:\n",
      "    https://scikit-learn.org/stable/modules/linear_model.html#logistic-regression\n",
      "  n_iter_i = _check_optimize_result(\n"
     ]
    }
   ],
   "source": [
    "for name, model in model_list:\n",
    "    model.fit(x_train,y_train)\n",
    "    score = model.score(x_test, y_test)\n",
    "    print(name,score)"
   ]
  },
  {
   "cell_type": "code",
   "execution_count": null,
   "id": "16f4cbdd-ab6f-4e97-85d1-165da516c0e9",
   "metadata": {},
   "outputs": [],
   "source": []
  },
  {
   "cell_type": "code",
   "execution_count": 20,
   "id": "a804b3a3-d9b1-4a63-846f-6ea2ee100aab",
   "metadata": {
    "tags": []
   },
   "outputs": [],
   "source": [
    "model1 = DecisionTreeClassifier()\n",
    "model2 = LogisticRegression()\n",
    "model3 = SVC(probability = True)"
   ]
  },
  {
   "cell_type": "code",
   "execution_count": 21,
   "id": "c569696d-c95f-4ddd-9166-8bd01d67f87b",
   "metadata": {
    "tags": []
   },
   "outputs": [],
   "source": [
    "model_list=[('DT', model1),('LR', model2),('SVC',model3)]"
   ]
  },
  {
   "cell_type": "code",
   "execution_count": 22,
   "id": "a035c9db-762e-4e39-a350-a77c085a87af",
   "metadata": {},
   "outputs": [],
   "source": [
    "vc_model = VotingClassifier(estimators=model_list,voting= 'soft')"
   ]
  },
  {
   "cell_type": "code",
   "execution_count": 23,
   "id": "8b99f30e-72a3-41ed-a400-b1f10315403e",
   "metadata": {
    "tags": []
   },
   "outputs": [
    {
     "name": "stderr",
     "output_type": "stream",
     "text": [
      "C:\\Users\\user\\anaconda3\\lib\\site-packages\\sklearn\\linear_model\\_logistic.py:814: ConvergenceWarning: lbfgs failed to converge (status=1):\n",
      "STOP: TOTAL NO. of ITERATIONS REACHED LIMIT.\n",
      "\n",
      "Increase the number of iterations (max_iter) or scale the data as shown in:\n",
      "    https://scikit-learn.org/stable/modules/preprocessing.html\n",
      "Please also refer to the documentation for alternative solver options:\n",
      "    https://scikit-learn.org/stable/modules/linear_model.html#logistic-regression\n",
      "  n_iter_i = _check_optimize_result(\n"
     ]
    },
    {
     "data": {
      "text/plain": [
       "VotingClassifier(estimators=[('DT', DecisionTreeClassifier()),\n",
       "                             ('LR', LogisticRegression()),\n",
       "                             ('SVC', SVC(probability=True))],\n",
       "                 voting='soft')"
      ]
     },
     "execution_count": 23,
     "metadata": {},
     "output_type": "execute_result"
    }
   ],
   "source": [
    "vc_model.fit(x_train, y_train)"
   ]
  },
  {
   "cell_type": "code",
   "execution_count": 24,
   "id": "2e039a89-7e44-4286-b64b-60db5637007f",
   "metadata": {
    "collapsed": true,
    "jupyter": {
     "outputs_hidden": true
    },
    "tags": []
   },
   "outputs": [
    {
     "data": {
      "text/plain": [
       "0.625"
      ]
     },
     "execution_count": 24,
     "metadata": {},
     "output_type": "execute_result"
    }
   ],
   "source": [
    "vc_model.score(x_test,y_test)"
   ]
  },
  {
   "cell_type": "code",
   "execution_count": 25,
   "id": "7a2b1311-4972-4000-b8ca-7258b7f35fc3",
   "metadata": {},
   "outputs": [
    {
     "name": "stdout",
     "output_type": "stream",
     "text": [
      "DT 0.621875\n",
      "LR 0.590625\n"
     ]
    },
    {
     "name": "stderr",
     "output_type": "stream",
     "text": [
      "C:\\Users\\user\\anaconda3\\lib\\site-packages\\sklearn\\linear_model\\_logistic.py:814: ConvergenceWarning: lbfgs failed to converge (status=1):\n",
      "STOP: TOTAL NO. of ITERATIONS REACHED LIMIT.\n",
      "\n",
      "Increase the number of iterations (max_iter) or scale the data as shown in:\n",
      "    https://scikit-learn.org/stable/modules/preprocessing.html\n",
      "Please also refer to the documentation for alternative solver options:\n",
      "    https://scikit-learn.org/stable/modules/linear_model.html#logistic-regression\n",
      "  n_iter_i = _check_optimize_result(\n"
     ]
    },
    {
     "name": "stdout",
     "output_type": "stream",
     "text": [
      "SVC 0.51875\n"
     ]
    }
   ],
   "source": [
    "for name, model in model_list:\n",
    "    model.fit(x_train,y_train)\n",
    "    score = model.score(x_test, y_test)\n",
    "    print(name,score)"
   ]
  },
  {
   "cell_type": "code",
   "execution_count": null,
   "id": "d1fa65f0-4db9-4828-8984-e8366173a5c0",
   "metadata": {},
   "outputs": [],
   "source": []
  },
  {
   "cell_type": "code",
   "execution_count": 26,
   "id": "b4d44b2e-93ce-4fce-be4b-04bf03c492fc",
   "metadata": {},
   "outputs": [],
   "source": []
  },
  {
   "cell_type": "code",
   "execution_count": 30,
   "id": "c5285f5a-ea2c-4fd9-9fc3-b5e423f8bcf9",
   "metadata": {
    "tags": []
   },
   "outputs": [],
   "source": [
    "model1 = DecisionTreeClassifier()\n",
    "model2 = DecisionTreeClassifier(max_depth=3)\n",
    "model3 = DecisionTreeClassifier(criterion='entropy')"
   ]
  },
  {
   "cell_type": "code",
   "execution_count": 31,
   "id": "8f5fd5fb-91ae-48d6-a67f-98c7e647c21b",
   "metadata": {
    "tags": []
   },
   "outputs": [],
   "source": [
    "model_list=[('DT', model1),('LR', model2),('SVC',model3)]"
   ]
  },
  {
   "cell_type": "code",
   "execution_count": 32,
   "id": "a2fda961-8403-4eb4-b54e-2862360d0379",
   "metadata": {},
   "outputs": [],
   "source": [
    "vc_model = VotingClassifier(estimators=model_list,voting= 'soft')"
   ]
  },
  {
   "cell_type": "code",
   "execution_count": 33,
   "id": "25003a6b-bdd5-4259-a238-6b9700801155",
   "metadata": {
    "tags": []
   },
   "outputs": [
    {
     "data": {
      "text/plain": [
       "VotingClassifier(estimators=[('DT', DecisionTreeClassifier()),\n",
       "                             ('LR', DecisionTreeClassifier(max_depth=3)),\n",
       "                             ('SVC',\n",
       "                              DecisionTreeClassifier(criterion='entropy'))],\n",
       "                 voting='soft')"
      ]
     },
     "execution_count": 33,
     "metadata": {},
     "output_type": "execute_result"
    }
   ],
   "source": [
    "vc_model.fit(x_train, y_train)"
   ]
  },
  {
   "cell_type": "code",
   "execution_count": 34,
   "id": "e8e89ad3-4975-4695-b843-bc6a64f5d8d0",
   "metadata": {
    "tags": []
   },
   "outputs": [
    {
     "data": {
      "text/plain": [
       "0.6375"
      ]
     },
     "execution_count": 34,
     "metadata": {},
     "output_type": "execute_result"
    }
   ],
   "source": [
    "vc_model.score(x_test,y_test)"
   ]
  },
  {
   "cell_type": "code",
   "execution_count": null,
   "id": "4d4f106e-a637-4c84-812b-60f6f70b6b65",
   "metadata": {},
   "outputs": [],
   "source": []
  },
  {
   "cell_type": "code",
   "execution_count": 35,
   "id": "478c05e7-48e2-4526-84e4-376548a22e81",
   "metadata": {},
   "outputs": [],
   "source": [
    "from sklearn.ensemble import RandomForestClassifier"
   ]
  },
  {
   "cell_type": "code",
   "execution_count": 44,
   "id": "a536ce2f-7742-4252-ba8e-f649d0733dd0",
   "metadata": {},
   "outputs": [],
   "source": [
    "rfc=RandomForestClassifier(n_estimators=10)"
   ]
  },
  {
   "cell_type": "code",
   "execution_count": 45,
   "id": "9ef5d0f8-d4d3-43d5-b403-039b8d931377",
   "metadata": {},
   "outputs": [
    {
     "data": {
      "text/plain": [
       "RandomForestClassifier(n_estimators=10)"
      ]
     },
     "execution_count": 45,
     "metadata": {},
     "output_type": "execute_result"
    }
   ],
   "source": [
    "rfc.fit(x_train, y_train)"
   ]
  },
  {
   "cell_type": "code",
   "execution_count": 46,
   "id": "9106570b-a066-476a-b150-4f40b3bd6e82",
   "metadata": {},
   "outputs": [
    {
     "data": {
      "text/plain": [
       "0.9913995308835027"
      ]
     },
     "execution_count": 46,
     "metadata": {},
     "output_type": "execute_result"
    }
   ],
   "source": [
    "rfc.score(x_train, y_train)"
   ]
  },
  {
   "cell_type": "code",
   "execution_count": 47,
   "id": "ffdd56b3-08be-45d3-9ae7-d62c25ed6ac6",
   "metadata": {},
   "outputs": [
    {
     "data": {
      "text/plain": [
       "0.675"
      ]
     },
     "execution_count": 47,
     "metadata": {},
     "output_type": "execute_result"
    }
   ],
   "source": [
    "rfc.score(x_test, y_test)"
   ]
  },
  {
   "cell_type": "code",
   "execution_count": null,
   "id": "de76d0b2-fddd-42c6-8499-468ec84254e9",
   "metadata": {},
   "outputs": [],
   "source": []
  },
  {
   "cell_type": "code",
   "execution_count": 50,
   "id": "04f058b9-3a1e-4c25-b8ad-f7c2a8469c40",
   "metadata": {
    "tags": []
   },
   "outputs": [],
   "source": [
    "from sklearn.ensemble import AdaBoostClassifier, GradientBoostingClassifier"
   ]
  },
  {
   "cell_type": "code",
   "execution_count": 51,
   "id": "02d49274-926a-4b33-8af2-aa2e9a6f1a87",
   "metadata": {},
   "outputs": [],
   "source": [
    "abc= AdaBoostClassifier()\n",
    "gbc=GradientBoostingClassifier()"
   ]
  },
  {
   "cell_type": "code",
   "execution_count": 55,
   "id": "5de43ff8-30fe-49eb-9813-2267024556cc",
   "metadata": {},
   "outputs": [],
   "source": [
    "model_list2= [('ABC',abc),('GBC',gbc)]"
   ]
  },
  {
   "cell_type": "code",
   "execution_count": 56,
   "id": "94cd209c-2b79-45fb-b759-0e08f2d2fbcf",
   "metadata": {
    "tags": []
   },
   "outputs": [
    {
     "name": "stdout",
     "output_type": "stream",
     "text": [
      "ABC 0.521875\n",
      "GBC 0.678125\n"
     ]
    }
   ],
   "source": [
    "for name, model in model_list2:\n",
    "    model.fit(x_train,y_train)\n",
    "    score = model.score(x_test,y_test)\n",
    "    print(name,score)"
   ]
  },
  {
   "cell_type": "code",
   "execution_count": null,
   "id": "106074e5-bcff-47af-8e10-cd9586b046a2",
   "metadata": {},
   "outputs": [],
   "source": []
  },
  {
   "cell_type": "code",
   "execution_count": 57,
   "id": "52c6d125-f577-4f00-858f-cc47fef87c7e",
   "metadata": {
    "tags": []
   },
   "outputs": [],
   "source": [
    "from sklearn.ensemble import AdaBoostClassifier, GradientBoostingClassifier"
   ]
  },
  {
   "cell_type": "code",
   "execution_count": 61,
   "id": "de857805-365b-4afa-a013-45796e47baa5",
   "metadata": {},
   "outputs": [],
   "source": [
    "abc= AdaBoostClassifier(learning_rate=0.1)\n",
    "gbc=GradientBoostingClassifier()"
   ]
  },
  {
   "cell_type": "code",
   "execution_count": 62,
   "id": "b2004e47-8135-414a-8267-030d30a6cfd0",
   "metadata": {},
   "outputs": [],
   "source": [
    "model_list2= [('ABC',abc),('GBC',gbc)]"
   ]
  },
  {
   "cell_type": "code",
   "execution_count": 63,
   "id": "9fbae6a8-73fc-495d-b770-f9f867e6a174",
   "metadata": {
    "tags": []
   },
   "outputs": [
    {
     "name": "stdout",
     "output_type": "stream",
     "text": [
      "ABC 0.565625\n",
      "GBC 0.675\n"
     ]
    }
   ],
   "source": [
    "for name, model in model_list2:\n",
    "    model.fit(x_train,y_train)\n",
    "    score = model.score(x_test,y_test)\n",
    "    print(name,score)"
   ]
  },
  {
   "cell_type": "code",
   "execution_count": null,
   "id": "6cc8f667-8d9a-49d2-b62b-e523cc36b30e",
   "metadata": {},
   "outputs": [],
   "source": []
  },
  {
   "cell_type": "code",
   "execution_count": null,
   "id": "3bf9d39c-19b0-4e90-9be1-193003f025e9",
   "metadata": {},
   "outputs": [],
   "source": []
  }
 ],
 "metadata": {
  "kernelspec": {
   "display_name": "Python 3 (ipykernel)",
   "language": "python",
   "name": "python3"
  },
  "language_info": {
   "codemirror_mode": {
    "name": "ipython",
    "version": 3
   },
   "file_extension": ".py",
   "mimetype": "text/x-python",
   "name": "python",
   "nbconvert_exporter": "python",
   "pygments_lexer": "ipython3",
   "version": "3.9.12"
  }
 },
 "nbformat": 4,
 "nbformat_minor": 5
}
