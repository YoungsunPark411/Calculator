{
 "cells": [
  {
   "cell_type": "code",
   "execution_count": 1,
   "id": "041f062d-22ff-4c05-820c-6f3f5d12e043",
   "metadata": {},
   "outputs": [],
   "source": [
    "inputs = [\n",
    "        ({'level':'Senior','lang':'Java','tweets':'no','phd':'no'},   False),\n",
    "        ({'level':'Senior','lang':'Java','tweets':'no','phd':'yes'},  False),\n",
    "        ({'level':'Mid','lang':'Python','tweets':'no','phd':'no'},     True),\n",
    "        ({'level':'Junior','lang':'Python','tweets':'no','phd':'no'},  True),\n",
    "        ({'level':'Junior','lang':'R','tweets':'yes','phd':'no'},      True),\n",
    "        ({'level':'Junior','lang':'R','tweets':'yes','phd':'yes'},    False),\n",
    "        ({'level':'Mid','lang':'R','tweets':'yes','phd':'yes'},        True),\n",
    "        ({'level':'Senior','lang':'Python','tweets':'no','phd':'no'}, False),\n",
    "        ({'level':'Senior','lang':'R','tweets':'yes','phd':'no'},      True),\n",
    "        ({'level':'Junior','lang':'Python','tweets':'yes','phd':'no'}, True),\n",
    "        ({'level':'Senior','lang':'Python','tweets':'yes','phd':'yes'},True),\n",
    "        ({'level':'Mid','lang':'Python','tweets':'no','phd':'yes'},    True),\n",
    "        ({'level':'Mid','lang':'Java','tweets':'yes','phd':'no'},      True),\n",
    "        ({'level':'Junior','lang':'Python','tweets':'no','phd':'yes'},False)\n",
    "    ]"
   ]
  },
  {
   "cell_type": "code",
   "execution_count": 3,
   "id": "e0138ab7-e3e9-449e-9079-94aceb7875a1",
   "metadata": {},
   "outputs": [
    {
     "data": {
      "text/plain": [
       "{'level': 'Senior', 'lang': 'Java', 'tweets': 'no', 'phd': 'no'}"
      ]
     },
     "execution_count": 3,
     "metadata": {},
     "output_type": "execute_result"
    }
   ],
   "source": [
    "inputs[0][0]"
   ]
  },
  {
   "cell_type": "code",
   "execution_count": 7,
   "id": "05626e08-8558-4101-8ac7-ddfc8d1073ee",
   "metadata": {},
   "outputs": [
    {
     "name": "stdout",
     "output_type": "stream",
     "text": [
      "({'level': 'Senior', 'lang': 'Java', 'tweets': 'no', 'phd': 'no'}, False)\n",
      "({'level': 'Senior', 'lang': 'Java', 'tweets': 'no', 'phd': 'yes'}, False)\n",
      "({'level': 'Senior', 'lang': 'Python', 'tweets': 'no', 'phd': 'no'}, False)\n",
      "({'level': 'Senior', 'lang': 'R', 'tweets': 'yes', 'phd': 'no'}, True)\n",
      "({'level': 'Senior', 'lang': 'Python', 'tweets': 'yes', 'phd': 'yes'}, True)\n"
     ]
    }
   ],
   "source": [
    "for i in inputs:\n",
    "    if i[0]['level'] == 'Senior':\n",
    "        print(i)"
   ]
  },
  {
   "cell_type": "code",
   "execution_count": 8,
   "id": "0a1d5e91-1323-441b-8972-32d0b699c38d",
   "metadata": {},
   "outputs": [
    {
     "data": {
      "text/plain": [
       "[({'level': 'Senior', 'lang': 'Java', 'tweets': 'no', 'phd': 'no'}, False),\n",
       " ({'level': 'Senior', 'lang': 'Java', 'tweets': 'no', 'phd': 'yes'}, False),\n",
       " ({'level': 'Senior', 'lang': 'Python', 'tweets': 'no', 'phd': 'no'}, False),\n",
       " ({'level': 'Senior', 'lang': 'R', 'tweets': 'yes', 'phd': 'no'}, True),\n",
       " ({'level': 'Senior', 'lang': 'Python', 'tweets': 'yes', 'phd': 'yes'}, True)]"
      ]
     },
     "execution_count": 8,
     "metadata": {},
     "output_type": "execute_result"
    }
   ],
   "source": [
    "[i for i in inputs if i[0]['level'] == 'Senior']"
   ]
  },
  {
   "cell_type": "code",
   "execution_count": 9,
   "id": "83f41da4-462d-452f-9031-a62d0c4f0af4",
   "metadata": {},
   "outputs": [],
   "source": [
    "import math"
   ]
  },
  {
   "cell_type": "code",
   "execution_count": null,
   "id": "a29c8dfb-60b9-4b3d-8c80-3520fb247b0f",
   "metadata": {},
   "outputs": [],
   "source": [
    "n=10 /T 5 F 5"
   ]
  },
  {
   "cell_type": "code",
   "execution_count": 10,
   "id": "b80a3218-6652-43a5-8f53-7b9cbb3b82f0",
   "metadata": {},
   "outputs": [],
   "source": [
    "p=5/10\n",
    "q=5/10"
   ]
  },
  {
   "cell_type": "code",
   "execution_count": 11,
   "id": "82922a2f-397c-4e62-bb16-ec3af3997865",
   "metadata": {},
   "outputs": [
    {
     "data": {
      "text/plain": [
       "1.0"
      ]
     },
     "execution_count": 11,
     "metadata": {},
     "output_type": "execute_result"
    }
   ],
   "source": [
    "-p*math.log(p,2)-q*math.log(q,2)"
   ]
  },
  {
   "cell_type": "code",
   "execution_count": 14,
   "id": "9e2946c8-580b-4afc-bb7c-6fd1c3e54d11",
   "metadata": {},
   "outputs": [],
   "source": [
    "class_probabilities =[5/10,5/10]"
   ]
  },
  {
   "cell_type": "code",
   "execution_count": 12,
   "id": "a65935f2-3bf8-491b-ab95-b6dc5f44dd1a",
   "metadata": {},
   "outputs": [],
   "source": [
    "def entropy(class_probabilities):\n",
    "    return sum(-p*math.log(p,2) for p in class_probabilities if p)"
   ]
  },
  {
   "cell_type": "code",
   "execution_count": 15,
   "id": "eebd2760-ca7c-46f3-8c5e-963d5a770c5b",
   "metadata": {},
   "outputs": [
    {
     "data": {
      "text/plain": [
       "1.0"
      ]
     },
     "execution_count": 15,
     "metadata": {},
     "output_type": "execute_result"
    }
   ],
   "source": [
    "entropy(class_probabilities)"
   ]
  },
  {
   "cell_type": "code",
   "execution_count": 16,
   "id": "91bb41bb-403c-4068-9d42-17c7f85c7b04",
   "metadata": {},
   "outputs": [],
   "source": [
    "#엔트로피 계산하는 공식 (위에꺼)"
   ]
  },
  {
   "cell_type": "code",
   "execution_count": 17,
   "id": "1d0b3aa1-6384-4fb7-ba23-be0ccd1969d3",
   "metadata": {},
   "outputs": [],
   "source": [
    "labeled_data=[i for i in inputs if i[0]['level'] == 'Senior']"
   ]
  },
  {
   "cell_type": "code",
   "execution_count": 26,
   "id": "b99ae6f5-065b-47ea-8bfc-44a72cb217c3",
   "metadata": {},
   "outputs": [],
   "source": [
    "labels=[label for _, label in labeled_data]\n",
    "#_는 제외처리"
   ]
  },
  {
   "cell_type": "code",
   "execution_count": 20,
   "id": "ce72a90e-28de-4003-b1ee-65dc2827a8cc",
   "metadata": {},
   "outputs": [
    {
     "name": "stdout",
     "output_type": "stream",
     "text": [
      "False\n",
      "False\n",
      "False\n",
      "True\n",
      "True\n"
     ]
    }
   ],
   "source": [
    "for _, label in labeled_data:\n",
    "    print(label)"
   ]
  },
  {
   "cell_type": "code",
   "execution_count": 27,
   "id": "6218d01d-afa6-4113-9826-81dae2238bdb",
   "metadata": {},
   "outputs": [
    {
     "data": {
      "text/plain": [
       "5"
      ]
     },
     "execution_count": 27,
     "metadata": {},
     "output_type": "execute_result"
    }
   ],
   "source": [
    "len(labels)"
   ]
  },
  {
   "cell_type": "code",
   "execution_count": 28,
   "id": "0e374519-b4c8-4822-bac6-318603657b64",
   "metadata": {},
   "outputs": [],
   "source": [
    "import math\n",
    "from collections import Counter"
   ]
  },
  {
   "cell_type": "code",
   "execution_count": 29,
   "id": "34c44bbb-ea09-4bdf-9930-40ec49a870bb",
   "metadata": {},
   "outputs": [
    {
     "data": {
      "text/plain": [
       "Counter({False: 3, True: 2})"
      ]
     },
     "execution_count": 29,
     "metadata": {},
     "output_type": "execute_result"
    }
   ],
   "source": [
    "Counter(labels)"
   ]
  },
  {
   "cell_type": "code",
   "execution_count": 30,
   "id": "8d22b5e2-017a-420c-8b82-98a4d9aa21b3",
   "metadata": {},
   "outputs": [],
   "source": [
    "total= len(labels)"
   ]
  },
  {
   "cell_type": "code",
   "execution_count": 31,
   "id": "e3cd3921-b9ae-4fbd-a998-9561ee782709",
   "metadata": {},
   "outputs": [
    {
     "data": {
      "text/plain": [
       "dict_values([3, 2])"
      ]
     },
     "execution_count": 31,
     "metadata": {},
     "output_type": "execute_result"
    }
   ],
   "source": [
    "Counter(labels).values()"
   ]
  },
  {
   "cell_type": "code",
   "execution_count": 33,
   "id": "f83b91e7-547d-41c7-b37a-1243fdb7eea9",
   "metadata": {},
   "outputs": [
    {
     "data": {
      "text/plain": [
       "[0.6, 0.4]"
      ]
     },
     "execution_count": 33,
     "metadata": {},
     "output_type": "execute_result"
    }
   ],
   "source": [
    "[count / total for count in Counter(labels).values()]"
   ]
  },
  {
   "cell_type": "code",
   "execution_count": 34,
   "id": "609e5edf-2e5a-4eb2-ad32-17494b3b6d9d",
   "metadata": {},
   "outputs": [],
   "source": [
    "def class_probabilities(labels):\n",
    "    total= len(labels)\n",
    "    return [count / total for count in Counter(labels).values()]"
   ]
  },
  {
   "cell_type": "code",
   "execution_count": 53,
   "id": "80654d22-af42-4a3c-b93f-62546522cc10",
   "metadata": {},
   "outputs": [],
   "source": [
    "def data_entropy(labeled_data):\n",
    "    labels= [label for _, label in labeled_data]\n",
    "    probabilities = class_probabilities(labels)\n",
    "    return entropy(probabilities)"
   ]
  },
  {
   "cell_type": "code",
   "execution_count": 54,
   "id": "fc4a1762-4049-4dfa-84c4-db0f4f6daeec",
   "metadata": {},
   "outputs": [],
   "source": [
    "labeled_data= [i for i in inputs if i[0]['level'] == 'Senior']"
   ]
  },
  {
   "cell_type": "code",
   "execution_count": 55,
   "id": "6f89698b-46ab-4ba3-a724-9bdd8d6ff4f4",
   "metadata": {},
   "outputs": [],
   "source": [
    "labeled_data= [i for i in inputs if i[0]['level'] == 'Mid']"
   ]
  },
  {
   "cell_type": "code",
   "execution_count": 56,
   "id": "8824ffd7-b96d-431b-abca-ef6a74bba6b7",
   "metadata": {},
   "outputs": [],
   "source": [
    "labeled_data= [i for i in inputs if i[0]['level'] == 'Junior']"
   ]
  },
  {
   "cell_type": "code",
   "execution_count": 58,
   "id": "12b5e3de-a487-44b4-8405-7cf2619d4a26",
   "metadata": {},
   "outputs": [
    {
     "data": {
      "text/plain": [
       "0.9709505944546686"
      ]
     },
     "execution_count": 58,
     "metadata": {},
     "output_type": "execute_result"
    }
   ],
   "source": [
    "data_entropy(labeled_data)"
   ]
  },
  {
   "cell_type": "code",
   "execution_count": null,
   "id": "5e84024e-39c5-4ee9-bf8e-0987908a2ae2",
   "metadata": {},
   "outputs": [],
   "source": []
  },
  {
   "cell_type": "code",
   "execution_count": 62,
   "id": "d3f7da19-861a-4590-a1f7-1985e79eee6d",
   "metadata": {},
   "outputs": [],
   "source": [
    "import math\n",
    "from collections import Counter, defaultdict"
   ]
  },
  {
   "cell_type": "code",
   "execution_count": 63,
   "id": "58167814-b9e3-485e-81f1-c8a4ea11dbfa",
   "metadata": {},
   "outputs": [],
   "source": [
    "temp=defaultdict(int)"
   ]
  },
  {
   "cell_type": "code",
   "execution_count": 64,
   "id": "8ec11b9e-cd25-47bb-bfe7-3565549b09c7",
   "metadata": {},
   "outputs": [
    {
     "data": {
      "text/plain": [
       "0"
      ]
     },
     "execution_count": 64,
     "metadata": {},
     "output_type": "execute_result"
    }
   ],
   "source": [
    "temp['a']"
   ]
  },
  {
   "cell_type": "code",
   "execution_count": 91,
   "id": "0dceee1b-48e1-4a1b-995c-5b051c133d41",
   "metadata": {},
   "outputs": [
    {
     "data": {
      "text/plain": [
       "'Senior'"
      ]
     },
     "execution_count": 91,
     "metadata": {},
     "output_type": "execute_result"
    }
   ],
   "source": [
    "inputs[0][0]['level']"
   ]
  },
  {
   "cell_type": "code",
   "execution_count": 95,
   "id": "25c666d9-8a22-4859-8405-39acbe67da25",
   "metadata": {},
   "outputs": [
    {
     "data": {
      "text/plain": [
       "defaultdict(list, {})"
      ]
     },
     "execution_count": 95,
     "metadata": {},
     "output_type": "execute_result"
    }
   ],
   "source": [
    "groups = defaultdict(list)\n",
    "groups"
   ]
  },
  {
   "cell_type": "code",
   "execution_count": 94,
   "id": "bea7f022-6352-4eb3-84e4-0ce304debacf",
   "metadata": {
    "collapsed": true,
    "jupyter": {
     "outputs_hidden": true
    },
    "tags": []
   },
   "outputs": [
    {
     "name": "stdout",
     "output_type": "stream",
     "text": [
      "[({'level': 'Senior', 'lang': 'Java', 'tweets': 'no', 'phd': 'no'}, False)]\n",
      "[({'level': 'Senior', 'lang': 'Java', 'tweets': 'no', 'phd': 'no'}, False), ({'level': 'Senior', 'lang': 'Java', 'tweets': 'no', 'phd': 'yes'}, False)]\n",
      "[({'level': 'Mid', 'lang': 'Python', 'tweets': 'no', 'phd': 'no'}, True)]\n",
      "[({'level': 'Junior', 'lang': 'Python', 'tweets': 'no', 'phd': 'no'}, True)]\n",
      "[({'level': 'Junior', 'lang': 'Python', 'tweets': 'no', 'phd': 'no'}, True), ({'level': 'Junior', 'lang': 'R', 'tweets': 'yes', 'phd': 'no'}, True)]\n",
      "[({'level': 'Junior', 'lang': 'Python', 'tweets': 'no', 'phd': 'no'}, True), ({'level': 'Junior', 'lang': 'R', 'tweets': 'yes', 'phd': 'no'}, True), ({'level': 'Junior', 'lang': 'R', 'tweets': 'yes', 'phd': 'yes'}, False)]\n",
      "[({'level': 'Mid', 'lang': 'Python', 'tweets': 'no', 'phd': 'no'}, True), ({'level': 'Mid', 'lang': 'R', 'tweets': 'yes', 'phd': 'yes'}, True)]\n",
      "[({'level': 'Senior', 'lang': 'Java', 'tweets': 'no', 'phd': 'no'}, False), ({'level': 'Senior', 'lang': 'Java', 'tweets': 'no', 'phd': 'yes'}, False), ({'level': 'Senior', 'lang': 'Python', 'tweets': 'no', 'phd': 'no'}, False)]\n",
      "[({'level': 'Senior', 'lang': 'Java', 'tweets': 'no', 'phd': 'no'}, False), ({'level': 'Senior', 'lang': 'Java', 'tweets': 'no', 'phd': 'yes'}, False), ({'level': 'Senior', 'lang': 'Python', 'tweets': 'no', 'phd': 'no'}, False), ({'level': 'Senior', 'lang': 'R', 'tweets': 'yes', 'phd': 'no'}, True)]\n",
      "[({'level': 'Junior', 'lang': 'Python', 'tweets': 'no', 'phd': 'no'}, True), ({'level': 'Junior', 'lang': 'R', 'tweets': 'yes', 'phd': 'no'}, True), ({'level': 'Junior', 'lang': 'R', 'tweets': 'yes', 'phd': 'yes'}, False), ({'level': 'Junior', 'lang': 'Python', 'tweets': 'yes', 'phd': 'no'}, True)]\n",
      "[({'level': 'Senior', 'lang': 'Java', 'tweets': 'no', 'phd': 'no'}, False), ({'level': 'Senior', 'lang': 'Java', 'tweets': 'no', 'phd': 'yes'}, False), ({'level': 'Senior', 'lang': 'Python', 'tweets': 'no', 'phd': 'no'}, False), ({'level': 'Senior', 'lang': 'R', 'tweets': 'yes', 'phd': 'no'}, True), ({'level': 'Senior', 'lang': 'Python', 'tweets': 'yes', 'phd': 'yes'}, True)]\n",
      "[({'level': 'Mid', 'lang': 'Python', 'tweets': 'no', 'phd': 'no'}, True), ({'level': 'Mid', 'lang': 'R', 'tweets': 'yes', 'phd': 'yes'}, True), ({'level': 'Mid', 'lang': 'Python', 'tweets': 'no', 'phd': 'yes'}, True)]\n",
      "[({'level': 'Mid', 'lang': 'Python', 'tweets': 'no', 'phd': 'no'}, True), ({'level': 'Mid', 'lang': 'R', 'tweets': 'yes', 'phd': 'yes'}, True), ({'level': 'Mid', 'lang': 'Python', 'tweets': 'no', 'phd': 'yes'}, True), ({'level': 'Mid', 'lang': 'Java', 'tweets': 'yes', 'phd': 'no'}, True)]\n",
      "[({'level': 'Junior', 'lang': 'Python', 'tweets': 'no', 'phd': 'no'}, True), ({'level': 'Junior', 'lang': 'R', 'tweets': 'yes', 'phd': 'no'}, True), ({'level': 'Junior', 'lang': 'R', 'tweets': 'yes', 'phd': 'yes'}, False), ({'level': 'Junior', 'lang': 'Python', 'tweets': 'yes', 'phd': 'no'}, True), ({'level': 'Junior', 'lang': 'Python', 'tweets': 'no', 'phd': 'yes'}, False)]\n"
     ]
    }
   ],
   "source": [
    "groups = defaultdict(list)\n",
    "for i in inputs:\n",
    "    key = i[0]['level']\n",
    "    groups[key].append(i)\n",
    "    print(groups[key])"
   ]
  },
  {
   "cell_type": "code",
   "execution_count": 93,
   "id": "2c1fee08-979d-4c6a-960d-3c5cb09ff6fb",
   "metadata": {
    "collapsed": true,
    "jupyter": {
     "outputs_hidden": true
    },
    "tags": []
   },
   "outputs": [
    {
     "data": {
      "text/plain": [
       "defaultdict(list,\n",
       "            {'Senior': [({'level': 'Senior',\n",
       "                'lang': 'Java',\n",
       "                'tweets': 'no',\n",
       "                'phd': 'no'},\n",
       "               False),\n",
       "              ({'level': 'Senior',\n",
       "                'lang': 'Java',\n",
       "                'tweets': 'no',\n",
       "                'phd': 'yes'},\n",
       "               False),\n",
       "              ({'level': 'Senior',\n",
       "                'lang': 'Python',\n",
       "                'tweets': 'no',\n",
       "                'phd': 'no'},\n",
       "               False),\n",
       "              ({'level': 'Senior', 'lang': 'R', 'tweets': 'yes', 'phd': 'no'},\n",
       "               True),\n",
       "              ({'level': 'Senior',\n",
       "                'lang': 'Python',\n",
       "                'tweets': 'yes',\n",
       "                'phd': 'yes'},\n",
       "               True)],\n",
       "             'Mid': [({'level': 'Mid',\n",
       "                'lang': 'Python',\n",
       "                'tweets': 'no',\n",
       "                'phd': 'no'},\n",
       "               True),\n",
       "              ({'level': 'Mid', 'lang': 'R', 'tweets': 'yes', 'phd': 'yes'},\n",
       "               True),\n",
       "              ({'level': 'Mid',\n",
       "                'lang': 'Python',\n",
       "                'tweets': 'no',\n",
       "                'phd': 'yes'},\n",
       "               True),\n",
       "              ({'level': 'Mid', 'lang': 'Java', 'tweets': 'yes', 'phd': 'no'},\n",
       "               True)],\n",
       "             'Junior': [({'level': 'Junior',\n",
       "                'lang': 'Python',\n",
       "                'tweets': 'no',\n",
       "                'phd': 'no'},\n",
       "               True),\n",
       "              ({'level': 'Junior', 'lang': 'R', 'tweets': 'yes', 'phd': 'no'},\n",
       "               True),\n",
       "              ({'level': 'Junior', 'lang': 'R', 'tweets': 'yes', 'phd': 'yes'},\n",
       "               False),\n",
       "              ({'level': 'Junior',\n",
       "                'lang': 'Python',\n",
       "                'tweets': 'yes',\n",
       "                'phd': 'no'},\n",
       "               True),\n",
       "              ({'level': 'Junior',\n",
       "                'lang': 'Python',\n",
       "                'tweets': 'no',\n",
       "                'phd': 'yes'},\n",
       "               False)]})"
      ]
     },
     "execution_count": 93,
     "metadata": {},
     "output_type": "execute_result"
    }
   ],
   "source": [
    "groups"
   ]
  },
  {
   "cell_type": "code",
   "execution_count": 82,
   "id": "010e7985-47aa-459b-9046-2d57b3a359e6",
   "metadata": {},
   "outputs": [],
   "source": [
    "def partition_by(inputs, attribute):\n",
    "    groups = defaultdict(list)\n",
    "    for i in inputs:\n",
    "        key = i[0][attribute]\n",
    "        groups[key].append(i)\n",
    "    return groups"
   ]
  },
  {
   "cell_type": "code",
   "execution_count": 83,
   "id": "55c2c94f-96ad-4380-a701-cec76de1b027",
   "metadata": {
    "tags": []
   },
   "outputs": [
    {
     "data": {
      "text/plain": [
       "[({'level': 'Senior', 'lang': 'Java', 'tweets': 'no', 'phd': 'no'}, False),\n",
       " ({'level': 'Senior', 'lang': 'Java', 'tweets': 'no', 'phd': 'yes'}, False),\n",
       " ({'level': 'Mid', 'lang': 'Python', 'tweets': 'no', 'phd': 'no'}, True),\n",
       " ({'level': 'Junior', 'lang': 'Python', 'tweets': 'no', 'phd': 'no'}, True),\n",
       " ({'level': 'Junior', 'lang': 'R', 'tweets': 'yes', 'phd': 'no'}, True),\n",
       " ({'level': 'Junior', 'lang': 'R', 'tweets': 'yes', 'phd': 'yes'}, False),\n",
       " ({'level': 'Mid', 'lang': 'R', 'tweets': 'yes', 'phd': 'yes'}, True),\n",
       " ({'level': 'Senior', 'lang': 'Python', 'tweets': 'no', 'phd': 'no'}, False),\n",
       " ({'level': 'Senior', 'lang': 'R', 'tweets': 'yes', 'phd': 'no'}, True),\n",
       " ({'level': 'Junior', 'lang': 'Python', 'tweets': 'yes', 'phd': 'no'}, True),\n",
       " ({'level': 'Senior', 'lang': 'Python', 'tweets': 'yes', 'phd': 'yes'}, True),\n",
       " ({'level': 'Mid', 'lang': 'Python', 'tweets': 'no', 'phd': 'yes'}, True),\n",
       " ({'level': 'Mid', 'lang': 'Java', 'tweets': 'yes', 'phd': 'no'}, True),\n",
       " ({'level': 'Junior', 'lang': 'Python', 'tweets': 'no', 'phd': 'yes'}, False)]"
      ]
     },
     "execution_count": 83,
     "metadata": {},
     "output_type": "execute_result"
    }
   ],
   "source": [
    "inputs"
   ]
  },
  {
   "cell_type": "code",
   "execution_count": 84,
   "id": "85c7c822-e0f1-41ad-87d3-6fec0700c26c",
   "metadata": {
    "collapsed": true,
    "jupyter": {
     "outputs_hidden": true
    },
    "tags": []
   },
   "outputs": [
    {
     "name": "stdout",
     "output_type": "stream",
     "text": [
      "level defaultdict(<class 'list'>, {'Senior': [({'level': 'Senior', 'lang': 'Java', 'tweets': 'no', 'phd': 'no'}, False), ({'level': 'Senior', 'lang': 'Java', 'tweets': 'no', 'phd': 'yes'}, False), ({'level': 'Senior', 'lang': 'Python', 'tweets': 'no', 'phd': 'no'}, False), ({'level': 'Senior', 'lang': 'R', 'tweets': 'yes', 'phd': 'no'}, True), ({'level': 'Senior', 'lang': 'Python', 'tweets': 'yes', 'phd': 'yes'}, True)], 'Mid': [({'level': 'Mid', 'lang': 'Python', 'tweets': 'no', 'phd': 'no'}, True), ({'level': 'Mid', 'lang': 'R', 'tweets': 'yes', 'phd': 'yes'}, True), ({'level': 'Mid', 'lang': 'Python', 'tweets': 'no', 'phd': 'yes'}, True), ({'level': 'Mid', 'lang': 'Java', 'tweets': 'yes', 'phd': 'no'}, True)], 'Junior': [({'level': 'Junior', 'lang': 'Python', 'tweets': 'no', 'phd': 'no'}, True), ({'level': 'Junior', 'lang': 'R', 'tweets': 'yes', 'phd': 'no'}, True), ({'level': 'Junior', 'lang': 'R', 'tweets': 'yes', 'phd': 'yes'}, False), ({'level': 'Junior', 'lang': 'Python', 'tweets': 'yes', 'phd': 'no'}, True), ({'level': 'Junior', 'lang': 'Python', 'tweets': 'no', 'phd': 'yes'}, False)]})\n",
      "____________________________________________________________\n",
      "lang defaultdict(<class 'list'>, {'Java': [({'level': 'Senior', 'lang': 'Java', 'tweets': 'no', 'phd': 'no'}, False), ({'level': 'Senior', 'lang': 'Java', 'tweets': 'no', 'phd': 'yes'}, False), ({'level': 'Mid', 'lang': 'Java', 'tweets': 'yes', 'phd': 'no'}, True)], 'Python': [({'level': 'Mid', 'lang': 'Python', 'tweets': 'no', 'phd': 'no'}, True), ({'level': 'Junior', 'lang': 'Python', 'tweets': 'no', 'phd': 'no'}, True), ({'level': 'Senior', 'lang': 'Python', 'tweets': 'no', 'phd': 'no'}, False), ({'level': 'Junior', 'lang': 'Python', 'tweets': 'yes', 'phd': 'no'}, True), ({'level': 'Senior', 'lang': 'Python', 'tweets': 'yes', 'phd': 'yes'}, True), ({'level': 'Mid', 'lang': 'Python', 'tweets': 'no', 'phd': 'yes'}, True), ({'level': 'Junior', 'lang': 'Python', 'tweets': 'no', 'phd': 'yes'}, False)], 'R': [({'level': 'Junior', 'lang': 'R', 'tweets': 'yes', 'phd': 'no'}, True), ({'level': 'Junior', 'lang': 'R', 'tweets': 'yes', 'phd': 'yes'}, False), ({'level': 'Mid', 'lang': 'R', 'tweets': 'yes', 'phd': 'yes'}, True), ({'level': 'Senior', 'lang': 'R', 'tweets': 'yes', 'phd': 'no'}, True)]})\n",
      "____________________________________________________________\n",
      "tweets defaultdict(<class 'list'>, {'no': [({'level': 'Senior', 'lang': 'Java', 'tweets': 'no', 'phd': 'no'}, False), ({'level': 'Senior', 'lang': 'Java', 'tweets': 'no', 'phd': 'yes'}, False), ({'level': 'Mid', 'lang': 'Python', 'tweets': 'no', 'phd': 'no'}, True), ({'level': 'Junior', 'lang': 'Python', 'tweets': 'no', 'phd': 'no'}, True), ({'level': 'Senior', 'lang': 'Python', 'tweets': 'no', 'phd': 'no'}, False), ({'level': 'Mid', 'lang': 'Python', 'tweets': 'no', 'phd': 'yes'}, True), ({'level': 'Junior', 'lang': 'Python', 'tweets': 'no', 'phd': 'yes'}, False)], 'yes': [({'level': 'Junior', 'lang': 'R', 'tweets': 'yes', 'phd': 'no'}, True), ({'level': 'Junior', 'lang': 'R', 'tweets': 'yes', 'phd': 'yes'}, False), ({'level': 'Mid', 'lang': 'R', 'tweets': 'yes', 'phd': 'yes'}, True), ({'level': 'Senior', 'lang': 'R', 'tweets': 'yes', 'phd': 'no'}, True), ({'level': 'Junior', 'lang': 'Python', 'tweets': 'yes', 'phd': 'no'}, True), ({'level': 'Senior', 'lang': 'Python', 'tweets': 'yes', 'phd': 'yes'}, True), ({'level': 'Mid', 'lang': 'Java', 'tweets': 'yes', 'phd': 'no'}, True)]})\n",
      "____________________________________________________________\n",
      "phd defaultdict(<class 'list'>, {'no': [({'level': 'Senior', 'lang': 'Java', 'tweets': 'no', 'phd': 'no'}, False), ({'level': 'Mid', 'lang': 'Python', 'tweets': 'no', 'phd': 'no'}, True), ({'level': 'Junior', 'lang': 'Python', 'tweets': 'no', 'phd': 'no'}, True), ({'level': 'Junior', 'lang': 'R', 'tweets': 'yes', 'phd': 'no'}, True), ({'level': 'Senior', 'lang': 'Python', 'tweets': 'no', 'phd': 'no'}, False), ({'level': 'Senior', 'lang': 'R', 'tweets': 'yes', 'phd': 'no'}, True), ({'level': 'Junior', 'lang': 'Python', 'tweets': 'yes', 'phd': 'no'}, True), ({'level': 'Mid', 'lang': 'Java', 'tweets': 'yes', 'phd': 'no'}, True)], 'yes': [({'level': 'Senior', 'lang': 'Java', 'tweets': 'no', 'phd': 'yes'}, False), ({'level': 'Junior', 'lang': 'R', 'tweets': 'yes', 'phd': 'yes'}, False), ({'level': 'Mid', 'lang': 'R', 'tweets': 'yes', 'phd': 'yes'}, True), ({'level': 'Senior', 'lang': 'Python', 'tweets': 'yes', 'phd': 'yes'}, True), ({'level': 'Mid', 'lang': 'Python', 'tweets': 'no', 'phd': 'yes'}, True), ({'level': 'Junior', 'lang': 'Python', 'tweets': 'no', 'phd': 'yes'}, False)]})\n",
      "____________________________________________________________\n"
     ]
    }
   ],
   "source": [
    "for key in ['level','lang','tweets','phd']:\n",
    "    print(key, partition_by(inputs,key))\n",
    "    print('____________________________________________________________')"
   ]
  },
  {
   "cell_type": "code",
   "execution_count": 96,
   "id": "85679508-793e-4959-bbe9-3b960326dba0",
   "metadata": {},
   "outputs": [
    {
     "name": "stdout",
     "output_type": "stream",
     "text": [
      "0.9709505944546686\n",
      "0.0\n",
      "0.9709505944546686\n"
     ]
    }
   ],
   "source": [
    "for i in partition_by(inputs,'level').values():\n",
    "    print(data_entropy(i))"
   ]
  },
  {
   "cell_type": "code",
   "execution_count": null,
   "id": "c5ddb297-bd38-463e-8d45-3c7ad1d94715",
   "metadata": {},
   "outputs": [],
   "source": []
  },
  {
   "cell_type": "code",
   "execution_count": 97,
   "id": "bf592616-0bbf-480a-af46-68f231b8bf32",
   "metadata": {},
   "outputs": [],
   "source": [
    "subsets= partition_by(inputs, 'level').values()"
   ]
  },
  {
   "cell_type": "code",
   "execution_count": 101,
   "id": "3e94ca3f-2c93-4269-9d47-d4b5879844aa",
   "metadata": {},
   "outputs": [],
   "source": [
    "# 전체 데이터 구하기\n",
    "total_count= sum(len(subset) for subset in subsets )"
   ]
  },
  {
   "cell_type": "code",
   "execution_count": 104,
   "id": "08c97507-e619-4b7c-beda-4e7797214b26",
   "metadata": {},
   "outputs": [
    {
     "data": {
      "text/plain": [
       "0.6935361388961918"
      ]
     },
     "execution_count": 104,
     "metadata": {},
     "output_type": "execute_result"
    }
   ],
   "source": [
    "sum((len(subset)/total_count * data_entropy(subset) for subset in subsets))"
   ]
  },
  {
   "cell_type": "code",
   "execution_count": null,
   "id": "7eeb7315-bdeb-4445-bd1b-2ca64b8e831b",
   "metadata": {},
   "outputs": [],
   "source": []
  },
  {
   "cell_type": "code",
   "execution_count": 106,
   "id": "4fe71073-12ac-4b52-8008-db4353f68e7b",
   "metadata": {},
   "outputs": [],
   "source": [
    "def partition_entropy(subsets):\n",
    "    total_count= sum(len(subset) for subset in subsets )\n",
    "    return sum((len(subset)/total_count * data_entropy(subset) for subset in subsets))"
   ]
  },
  {
   "cell_type": "code",
   "execution_count": 109,
   "id": "a2a60539-9157-4bb4-972e-0abb278a63c6",
   "metadata": {},
   "outputs": [],
   "source": [
    "def partition_entropy_by(inputs, attribute):\n",
    "    partitions = partition_by(inputs, attribute)\n",
    "    return partition_entropy(partitions.values())"
   ]
  },
  {
   "cell_type": "code",
   "execution_count": 110,
   "id": "6cd52a77-0172-4a3a-983f-9c3de42b5331",
   "metadata": {},
   "outputs": [
    {
     "name": "stdout",
     "output_type": "stream",
     "text": [
      "level 0.6935361388961918\n",
      "lang 0.8601317128547441\n",
      "tweets 0.7884504573082896\n",
      "phd 0.8921589282623617\n"
     ]
    }
   ],
   "source": [
    "for key in ['level','lang','tweets','phd']:\n",
    "    print(key, partition_entropy_by(inputs,key))\n"
   ]
  },
  {
   "cell_type": "code",
   "execution_count": 111,
   "id": "0b3d5734-09f0-41b9-96fd-115a31794534",
   "metadata": {},
   "outputs": [],
   "source": [
    "mid_input=[(data, label) for data, label in inputs if data['level']== 'Mid']"
   ]
  },
  {
   "cell_type": "code",
   "execution_count": 113,
   "id": "6b15c253-c6e9-48f5-a7df-48b9c58414de",
   "metadata": {},
   "outputs": [
    {
     "name": "stdout",
     "output_type": "stream",
     "text": [
      "lang 0.0\n",
      "tweets 0.0\n",
      "phd 0.0\n"
     ]
    }
   ],
   "source": [
    "for key in ['lang','tweets','phd']:\n",
    "    print(key, partition_entropy_by(mid_input,key))"
   ]
  },
  {
   "cell_type": "code",
   "execution_count": 114,
   "id": "d14c3f84-9eb0-48c2-86ca-a65fcaf34b49",
   "metadata": {},
   "outputs": [
    {
     "name": "stdout",
     "output_type": "stream",
     "text": [
      "lang 0.4\n",
      "tweets 0.0\n",
      "phd 0.9509775004326937\n"
     ]
    }
   ],
   "source": [
    "senior_input=[(data, label) for data, label in inputs if data['level']== 'Senior']\n",
    "for key in ['lang','tweets','phd']:\n",
    "    print(key, partition_entropy_by(senior_input,key))"
   ]
  },
  {
   "cell_type": "code",
   "execution_count": 116,
   "id": "36d0f1e4-3048-48dc-b92b-dcb7060ddee3",
   "metadata": {},
   "outputs": [
    {
     "name": "stdout",
     "output_type": "stream",
     "text": [
      "lang 0.9509775004326937\n",
      "tweets 0.9509775004326937\n",
      "phd 0.0\n"
     ]
    }
   ],
   "source": [
    "junior_input=[(data, label) for data, label in inputs if data['level']== 'Junior']\n",
    "for key in ['lang','tweets','phd']:\n",
    "    print(key, partition_entropy_by(junior_input,key))"
   ]
  },
  {
   "cell_type": "code",
   "execution_count": 121,
   "id": "ff4cb564-dab0-4c7e-add0-fb1547b89909",
   "metadata": {},
   "outputs": [],
   "source": [
    "#재기함수\n",
    "def func_test(x):\n",
    "    if x<0:\n",
    "        return\n",
    "    x=x-1\n",
    "    print(x)\n",
    "    x= func_test(x)\n",
    "    return x"
   ]
  },
  {
   "cell_type": "code",
   "execution_count": 122,
   "id": "6b58b07a-8617-4038-9735-b3556ec175cd",
   "metadata": {},
   "outputs": [
    {
     "name": "stdout",
     "output_type": "stream",
     "text": [
      "9\n",
      "8\n",
      "7\n",
      "6\n",
      "5\n",
      "4\n",
      "3\n",
      "2\n",
      "1\n",
      "0\n",
      "-1\n"
     ]
    }
   ],
   "source": [
    "func_test(10)"
   ]
  },
  {
   "cell_type": "code",
   "execution_count": 130,
   "id": "8421765d-2d4d-487d-b756-da015c0cc7c1",
   "metadata": {},
   "outputs": [],
   "source": [
    "def build_tree_id3(inputs, split_cadidates=None):\n",
    "    if split_cadidates is None:\n",
    "        split_cadidates = inputs[0][0].keys()\n",
    "        #['level','lang','tweets','phd']\n",
    "    \n",
    "    num_inputs=len(inputs) # 14개\n",
    "    num_trues= len([label for _, label in inputs if label])\n",
    "    num_falses= num_inputs - num_trues\n",
    "    print(num_falses)"
   ]
  },
  {
   "cell_type": "code",
   "execution_count": 131,
   "id": "a6d91eab-052d-471a-9f2d-a4beab53e76d",
   "metadata": {},
   "outputs": [
    {
     "name": "stdout",
     "output_type": "stream",
     "text": [
      "5\n"
     ]
    }
   ],
   "source": [
    "build_tree_id3(inputs)"
   ]
  },
  {
   "cell_type": "code",
   "execution_count": 132,
   "id": "a603444e-ec22-4856-96a6-c151e7e4426b",
   "metadata": {},
   "outputs": [],
   "source": [
    "test= ['asjkdajbk','ss','gggg','jjjjjj']"
   ]
  },
  {
   "cell_type": "code",
   "execution_count": 133,
   "id": "ef69b975-479e-4bfb-9a86-03b6adeb4a8e",
   "metadata": {},
   "outputs": [
    {
     "data": {
      "text/plain": [
       "'ss'"
      ]
     },
     "execution_count": 133,
     "metadata": {},
     "output_type": "execute_result"
    }
   ],
   "source": [
    "min(test, key=len)"
   ]
  },
  {
   "cell_type": "code",
   "execution_count": 134,
   "id": "43f5909c-4752-4cc2-acc6-208c8acbf3ff",
   "metadata": {},
   "outputs": [
    {
     "data": {
      "text/plain": [
       "'asjkdajbk'"
      ]
     },
     "execution_count": 134,
     "metadata": {},
     "output_type": "execute_result"
    }
   ],
   "source": [
    "max(test, key=len)"
   ]
  },
  {
   "cell_type": "code",
   "execution_count": 137,
   "id": "b495cf30-5de0-435f-bcaf-86270e1ad2be",
   "metadata": {},
   "outputs": [],
   "source": [
    "test2= ['asjkdajbk','ss','gggg','jjjjjj']"
   ]
  },
  {
   "cell_type": "code",
   "execution_count": 142,
   "id": "abdf9f6a-88bb-486b-ada9-6f9395003836",
   "metadata": {},
   "outputs": [],
   "source": [
    "def test(x):\n",
    "    return x[-1]\n",
    "    "
   ]
  },
  {
   "cell_type": "code",
   "execution_count": 143,
   "id": "e906670b-c5c7-4bfb-8e1c-20a8f0a068f5",
   "metadata": {},
   "outputs": [
    {
     "data": {
      "text/plain": [
       "'gggg'"
      ]
     },
     "execution_count": 143,
     "metadata": {},
     "output_type": "execute_result"
    }
   ],
   "source": [
    "min(test2, key=test)"
   ]
  },
  {
   "cell_type": "code",
   "execution_count": null,
   "id": "b0e5ce6d-5c6e-4ec7-af56-7feaf2d4f76c",
   "metadata": {},
   "outputs": [],
   "source": []
  },
  {
   "cell_type": "code",
   "execution_count": 153,
   "id": "8b879569-4ac6-4c28-b38f-59a4c53dca39",
   "metadata": {},
   "outputs": [],
   "source": [
    "import math\n",
    "from collections import Counter, defaultdict\n",
    "from functools import partial"
   ]
  },
  {
   "cell_type": "code",
   "execution_count": 185,
   "id": "80e1a539-2279-439c-ba9b-254308fd7242",
   "metadata": {},
   "outputs": [],
   "source": [
    "inputs = [\n",
    "        ({'level':'Senior','lang':'Java','tweets':'no','phd':'no'},   False),\n",
    "        ({'level':'Senior','lang':'Java','tweets':'no','phd':'yes'},  False),\n",
    "        ({'level':'Mid','lang':'Python','tweets':'no','phd':'no'},     True),\n",
    "        ({'level':'Junior','lang':'Python','tweets':'no','phd':'no'},  True),\n",
    "        ({'level':'Junior','lang':'R','tweets':'yes','phd':'no'},      True),\n",
    "        ({'level':'Junior','lang':'R','tweets':'yes','phd':'yes'},    False),\n",
    "        ({'level':'Mid','lang':'R','tweets':'yes','phd':'yes'},        True),\n",
    "        ({'level':'Senior','lang':'Python','tweets':'no','phd':'no'}, False),\n",
    "        ({'level':'Senior','lang':'R','tweets':'yes','phd':'no'},      True),\n",
    "        ({'level':'Junior','lang':'Python','tweets':'yes','phd':'no'}, True),\n",
    "        ({'level':'Senior','lang':'Python','tweets':'yes','phd':'yes'},True),\n",
    "        ({'level':'Mid','lang':'Python','tweets':'no','phd':'yes'},    True),\n",
    "        ({'level':'Mid','lang':'Java','tweets':'yes','phd':'no'},      True),\n",
    "        ({'level':'Junior','lang':'Python','tweets':'no','phd':'yes'},False)\n",
    "    ]"
   ]
  },
  {
   "cell_type": "code",
   "execution_count": 192,
   "id": "4fd1d122-4475-4715-abf6-669cec7705ce",
   "metadata": {},
   "outputs": [
    {
     "data": {
      "text/plain": [
       "9"
      ]
     },
     "execution_count": 192,
     "metadata": {},
     "output_type": "execute_result"
    }
   ],
   "source": [
    "len([label for _, label in inputs if label])"
   ]
  },
  {
   "cell_type": "code",
   "execution_count": 174,
   "id": "295cddf4-6576-4d29-9abc-3c640f8eb775",
   "metadata": {},
   "outputs": [],
   "source": [
    "def build_tree_id3(inputs, split_cadidates=None):\n",
    "    if split_cadidates is None:\n",
    "        split_cadidates = inputs[0][0].keys()\n",
    "        #['level','lang','tweets','phd']\n",
    "    \n",
    "    num_inputs=len(inputs) # 14개\n",
    "    num_trues= len([label for _, label in inputs if label])\n",
    "    # true 몇개 있는 지 세기 / {'level':'Mid','lang':'Python','tweets':'no','phd':'no'},     True 중 label인 True 출력 // 9 /// counter 쓰는 게 더 정확하다\n",
    "    num_falses= num_inputs - num_trues\n",
    "    # False 몇개 있는 지 세기 // 6\n",
    "    \n",
    "    if not split_cadidates:\n",
    "        return num_trues >= num_falses\n",
    "    # 맨 처음은 split_cadidates= ['level','lang','tweets','phd']가 존재해서 패스 \n",
    "    \n",
    "    best_attribute= min(split_cadidates, key=partial(partition_entropy_by,inputs))\n",
    "    # min(리스트, key= 함수) / ['level','lang','tweets','phd'] 각각 엔트로피 중 가장 작은 거 ********* 여기 부터 이해못함..\n",
    "    \n",
    "    partitions = partition_by(inputs, best_attribute)\n",
    "    new_candidates = [a for a in split_cadidates if a != best_attribute]\n",
    "    \n",
    "    subtrees = {attribute_value : build_tree_id3(subset, new_candidates) for attribute_value, subset in partitions.items()}\n",
    "    \n",
    "    subtrees[None]=num_trues>num_falses\n",
    "    return best_attribute,subtrees\n",
    "    "
   ]
  },
  {
   "cell_type": "code",
   "execution_count": 175,
   "id": "2887551e-b7cd-4d87-af18-579f052972c6",
   "metadata": {},
   "outputs": [
    {
     "data": {
      "text/plain": [
       "('level',\n",
       " {'Senior': ('tweets',\n",
       "   {'no': ('lang',\n",
       "     {'Java': ('phd', {'no': False, 'yes': False, None: False}),\n",
       "      'Python': ('phd', {'no': False, None: False}),\n",
       "      None: False}),\n",
       "    'yes': ('lang',\n",
       "     {'R': ('phd', {'no': True, None: True}),\n",
       "      'Python': ('phd', {'yes': True, None: True}),\n",
       "      None: True}),\n",
       "    None: False}),\n",
       "  'Mid': ('lang',\n",
       "   {'Python': ('tweets',\n",
       "     {'no': ('phd', {'no': True, 'yes': True, None: True}), None: True}),\n",
       "    'R': ('tweets', {'yes': ('phd', {'yes': True, None: True}), None: True}),\n",
       "    'Java': ('tweets', {'yes': ('phd', {'no': True, None: True}), None: True}),\n",
       "    None: True}),\n",
       "  'Junior': ('phd',\n",
       "   {'no': ('lang',\n",
       "     {'Python': ('tweets', {'no': True, 'yes': True, None: True}),\n",
       "      'R': ('tweets', {'yes': True, None: True}),\n",
       "      None: True}),\n",
       "    'yes': ('lang',\n",
       "     {'R': ('tweets', {'yes': False, None: False}),\n",
       "      'Python': ('tweets', {'no': False, None: False}),\n",
       "      None: False}),\n",
       "    None: True}),\n",
       "  None: True})"
      ]
     },
     "execution_count": 175,
     "metadata": {},
     "output_type": "execute_result"
    }
   ],
   "source": [
    "build_tree_id3(inputs)"
   ]
  },
  {
   "cell_type": "code",
   "execution_count": 180,
   "id": "a528ae24-ec6b-4470-911f-fd56a67174b5",
   "metadata": {},
   "outputs": [],
   "source": [
    "def classify(tree, x):\n",
    "    if tree in [True, False]:\n",
    "        return tree\n",
    "    attribute, subtree_dict= tree\n",
    "    subtree_key = x[attribute]\n",
    "    \n",
    "    if subtree_key not in subtree_dict:\n",
    "        subtree_key = None\n",
    "        \n",
    "    subtree = subtree_dict[subtree_key]\n",
    "    \n",
    "    return classify(subtree, x)"
   ]
  },
  {
   "cell_type": "code",
   "execution_count": 184,
   "id": "5bb5d575-89ec-41a6-a457-0514094e29cf",
   "metadata": {},
   "outputs": [
    {
     "name": "stdout",
     "output_type": "stream",
     "text": [
      "('level', {'Senior': ('tweets', {'no': ('lang', {'Java': ('phd', {'no': False, 'yes': False, None: False}), 'Python': ('phd', {'no': False, None: False}), None: False}), 'yes': ('lang', {'R': ('phd', {'no': True, None: True}), 'Python': ('phd', {'yes': True, None: True}), None: True}), None: False}), 'Mid': ('lang', {'Python': ('tweets', {'no': ('phd', {'no': True, 'yes': True, None: True}), None: True}), 'R': ('tweets', {'yes': ('phd', {'yes': True, None: True}), None: True}), 'Java': ('tweets', {'yes': ('phd', {'no': True, None: True}), None: True}), None: True}), 'Junior': ('phd', {'no': ('lang', {'Python': ('tweets', {'no': True, 'yes': True, None: True}), 'R': ('tweets', {'yes': True, None: True}), None: True}), 'yes': ('lang', {'R': ('tweets', {'yes': False, None: False}), 'Python': ('tweets', {'no': False, None: False}), None: False}), None: True}), None: True})\n"
     ]
    }
   ],
   "source": [
    "tree= build_tree_id3(inputs)\n",
    "print(tree)"
   ]
  },
  {
   "cell_type": "code",
   "execution_count": 183,
   "id": "285dfc06-8786-473f-9d41-a5ffae3b363f",
   "metadata": {},
   "outputs": [
    {
     "data": {
      "text/plain": [
       "True"
      ]
     },
     "execution_count": 183,
     "metadata": {},
     "output_type": "execute_result"
    }
   ],
   "source": [
    "classify(tree, {'level': 'Junior', 'lang': 'Java', 'tweets': 'yes', 'phd': 'no'})"
   ]
  },
  {
   "cell_type": "code",
   "execution_count": null,
   "id": "bc04f23b-120d-4c05-a7cd-dfb6cea6537c",
   "metadata": {},
   "outputs": [],
   "source": []
  }
 ],
 "metadata": {
  "kernelspec": {
   "display_name": "Python 3 (ipykernel)",
   "language": "python",
   "name": "python3"
  },
  "language_info": {
   "codemirror_mode": {
    "name": "ipython",
    "version": 3
   },
   "file_extension": ".py",
   "mimetype": "text/x-python",
   "name": "python",
   "nbconvert_exporter": "python",
   "pygments_lexer": "ipython3",
   "version": "3.9.12"
  }
 },
 "nbformat": 4,
 "nbformat_minor": 5
}
